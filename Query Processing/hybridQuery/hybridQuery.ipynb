{
 "cells": [
  {
   "cell_type": "code",
   "id": "initial_id",
   "metadata": {
    "collapsed": true,
    "ExecuteTime": {
     "end_time": "2025-06-22T12:57:25.545557Z",
     "start_time": "2025-06-22T12:57:10.207802Z"
    }
   },
   "source": [
    "import os\n",
    "import re\n",
    "import joblib\n",
    "import ir_datasets\n",
    "import nltk\n",
    "import numpy as np\n",
    "from tqdm import tqdm\n",
    "from pymongo import MongoClient\n",
    "from nltk.stem import WordNetLemmatizer\n",
    "from sklearn.feature_extraction.text import TfidfVectorizer\n",
    "\n",
    "\n",
    "\n",
    "def custom_tokenizer(text):\n",
    "    return text.split()\n",
    "\n",
    "# تحميل موارد NLTK\n",
    "nltk.download(\"wordnet\")\n",
    "nltk.download(\"omw-1.4\")\n",
    "\n",
    "lemmatizer = WordNetLemmatizer()\n",
    "\n",
    "def tokenize(text):\n",
    "    text = text.lower()\n",
    "    return re.findall(r'\\b\\w+\\b', text)\n",
    "\n",
    "def lemmatize_tokens(tokens):\n",
    "    return [lemmatizer.lemmatize(token) for token in tokens]\n",
    "\n",
    "def clean_text(text):\n",
    "    tokens = tokenize(text)\n",
    "    lemmas = lemmatize_tokens(tokens)\n",
    "    return \" \".join(lemmas)\n",
    "\n",
    "# مسارات الملفات\n",
    "bert_path = r\"C:\\Users\\Azzam\\PycharmProjects\\PythonProject\\Query Processing\\Bertquery\\BEIR\\quora\\test\\query_embeddings\\bert_query_embeddings.joblib\"\n",
    "vectorizer_path = r\"C:\\Users\\Azzam\\PycharmProjects\\PythonProject\\Data Representation\\TF-IDF\\beir\\quora\\test\\doc\\tfidf_data.joblib\"\n",
    "\n",
    "# تحميل ملفات BERT و TF-IDF vectorizer الخاص بالوثائق\n",
    "bert_data = joblib.load(bert_path)\n",
    "vectorizer_data = joblib.load(vectorizer_path)\n",
    "vectorizer = vectorizer_data[\"vectorizer\"]\n",
    "\n",
    "# تحميل الاستعلامات\n",
    "dataset = ir_datasets.load(\"beir/quora/test\")\n",
    "query_ids = []\n",
    "original_texts = []\n",
    "clean_texts = []\n",
    "\n",
    "print(\"🧼 تنظيف الاستعلامات...\")\n",
    "for query in tqdm(dataset.queries_iter()):\n",
    "    cleaned = clean_text(query.text)\n",
    "    if cleaned.strip():\n",
    "        query_ids.append(query.query_id)\n",
    "        original_texts.append(query.text)\n",
    "        clean_texts.append(cleaned)\n",
    "\n",
    "# تحويل الاستعلامات إلى تمثيل TF-IDF متوافق مع الوثائق\n",
    "print(\"🔢 تحويل الاستعلامات إلى TF-IDF باستخدام vectorizer الوثائق...\")\n",
    "tfidf_matrix = vectorizer.transform(clean_texts)\n",
    "\n",
    "# استخراج الإندكسات والقيم من المصفوفة\n",
    "tfidf_indices_list = []\n",
    "tfidf_values_list = []\n",
    "for i in range(tfidf_matrix.shape[0]):\n",
    "    row = tfidf_matrix.getrow(i).tocoo()\n",
    "    tfidf_indices_list.append(row.col.tolist())\n",
    "    tfidf_values_list.append(row.data.tolist())\n",
    "\n",
    "bert_embeddings = bert_data[\"embeddings\"]\n",
    "bert_model_name = bert_data[\"model_name\"]\n",
    "\n",
    "# تخزين في MongoDB\n",
    "client = MongoClient(\"mongodb://localhost:27017/\")\n",
    "db = client[\"ir_project\"]\n",
    "collection = db[\"queries_quora_test_hybrid_updated\"]\n",
    "collection.delete_many({})\n",
    "\n",
    "query_docs = []\n",
    "for i in tqdm(range(len(query_ids)), desc=\"Mongo Insert\"):\n",
    "    doc = {\n",
    "        \"query_id\": query_ids[i],\n",
    "        \"original_text\": original_texts[i],\n",
    "        \"clean_text\": clean_texts[i],\n",
    "        \"bert_embedding\": bert_embeddings[i].tolist(),\n",
    "        \"tfidf_indices\": tfidf_indices_list[i],\n",
    "        \"tfidf_values\": tfidf_values_list[i],\n",
    "    }\n",
    "    query_docs.append(doc)\n",
    "\n",
    "collection.insert_many(query_docs)\n",
    "print(f\"✅ تم تخزين {len(query_docs)} استعلام هجين في MongoDB داخل: {collection.name}\")\n",
    "\n",
    "# حفظ بصيغة joblib\n",
    "output_path = r\"C:\\Users\\Azzam\\PycharmProjects\\PythonProject\\Query Processing\\hybridQuery\\BEIR\\quora\\test\\hybird_query_data.joblib\"\n",
    "os.makedirs(os.path.dirname(output_path), exist_ok=True)\n",
    "\n",
    "joblib.dump({\n",
    "    \"query_ids\": query_ids,\n",
    "    \"original_texts\": original_texts,\n",
    "    \"clean_texts\": clean_texts,\n",
    "    \"bert_embeddings\": bert_embeddings,\n",
    "    \"tfidf_indices\": tfidf_indices_list,\n",
    "    \"tfidf_values\": tfidf_values_list,\n",
    "    \"bert_model_name\": bert_model_name\n",
    "}, output_path)\n",
    "\n",
    "print(f\"📦 تم حفظ تمثيل الاستعلامات الهجين في: {output_path}\")\n"
   ],
   "outputs": [
    {
     "name": "stderr",
     "output_type": "stream",
     "text": [
      "[nltk_data] Downloading package wordnet to\n",
      "[nltk_data]     C:\\Users\\Azzam\\AppData\\Roaming\\nltk_data...\n",
      "[nltk_data]   Package wordnet is already up-to-date!\n",
      "[nltk_data] Downloading package omw-1.4 to\n",
      "[nltk_data]     C:\\Users\\Azzam\\AppData\\Roaming\\nltk_data...\n",
      "[nltk_data]   Package omw-1.4 is already up-to-date!\n"
     ]
    },
    {
     "name": "stdout",
     "output_type": "stream",
     "text": [
      "🧼 تنظيف الاستعلامات...\n"
     ]
    },
    {
     "name": "stderr",
     "output_type": "stream",
     "text": [
      "10000it [00:06, 1531.07it/s]\n"
     ]
    },
    {
     "name": "stdout",
     "output_type": "stream",
     "text": [
      "🔢 تحويل الاستعلامات إلى TF-IDF باستخدام vectorizer الوثائق...\n"
     ]
    },
    {
     "name": "stderr",
     "output_type": "stream",
     "text": [
      "Mongo Insert: 100%|██████████| 10000/10000 [00:00<00:00, 38759.92it/s]\n"
     ]
    },
    {
     "name": "stdout",
     "output_type": "stream",
     "text": [
      "✅ تم تخزين 10000 استعلام هجين في MongoDB داخل: queries_quora_test_hybrid_updated\n",
      "📦 تم حفظ تمثيل الاستعلامات الهجين في: C:\\Users\\Azzam\\PycharmProjects\\PythonProject\\Query Processing\\hybridQuery\\BEIR\\quora\\test\\hybird_query_data.joblib\n"
     ]
    }
   ],
   "execution_count": 2
  },
  {
   "metadata": {
    "ExecuteTime": {
     "end_time": "2025-06-24T13:12:49.709215Z",
     "start_time": "2025-06-24T13:12:42.739722Z"
    }
   },
   "cell_type": "code",
   "source": [
    "import os\n",
    "import re\n",
    "import json\n",
    "import joblib\n",
    "import ir_datasets\n",
    "import nltk\n",
    "import numpy as np\n",
    "from tqdm import tqdm\n",
    "from pymongo import MongoClient\n",
    "from nltk.stem import WordNetLemmatizer\n",
    "from sklearn.feature_extraction.text import TfidfVectorizer\n",
    "\n",
    "# تحميل موارد NLTK\n",
    "nltk.download(\"wordnet\")\n",
    "nltk.download(\"omw-1.4\")\n",
    "\n",
    "lemmatizer = WordNetLemmatizer()\n",
    "\n",
    "def tokenize(text):\n",
    "    text = text.lower()\n",
    "    return re.findall(r'\\b\\w+\\b', text)\n",
    "\n",
    "def lemmatize_tokens(tokens):\n",
    "    return [lemmatizer.lemmatize(token) for token in tokens]\n",
    "\n",
    "def clean_text(text):\n",
    "    tokens = tokenize(text)\n",
    "    lemmas = lemmatize_tokens(tokens)\n",
    "    return \" \".join(lemmas)\n",
    "\n",
    "# ------------------ المسارات -------------------\n",
    "bert_path = r\"C:\\Users\\Azzam\\PycharmProjects\\PythonProject\\Query Processing\\Bertquery\\antique\\train\\query_embeddings\\bert_query_embeddings.joblib\"\n",
    "vectorizer_path = r\"C:\\Users\\Azzam\\PycharmProjects\\PythonProject\\Data Representation\\TF-IDF\\antique\\train\\doc\\tfidf_data.joblib\"\n",
    "output_path = r\"C:\\Users\\Azzam\\PycharmProjects\\PythonProject\\Query Processing\\hybridQuery\\Antique\\train\\hybird_query_data.joblib\"\n",
    "\n",
    "# ------------------ تحميل البيانات -------------------\n",
    "bert_data = joblib.load(bert_path)\n",
    "vectorizer_data = joblib.load(vectorizer_path)\n",
    "vectorizer = vectorizer_data[\"vectorizer\"]\n",
    "\n",
    "bert_embeddings = bert_data[\"embeddings\"]\n",
    "bert_model_name = bert_data[\"model_name\"]\n",
    "bert_query_ids = bert_data[\"query_ids\"]\n",
    "\n",
    "# ربط تمثيلات BERT بالـ query_id\n",
    "bert_map = {\n",
    "    qid: emb for qid, emb in zip(bert_query_ids, bert_embeddings)\n",
    "}\n",
    "\n",
    "# تحميل الاستعلامات\n",
    "dataset = ir_datasets.load(\"antique/test/non-offensive\")\n",
    "\n",
    "query_docs = []\n",
    "query_ids = []\n",
    "original_texts = []\n",
    "clean_texts = []\n",
    "tfidf_indices_list = []\n",
    "tfidf_values_list = []\n",
    "\n",
    "print(\"🧼 تنظيف الاستعلامات...\")\n",
    "for query in tqdm(dataset.queries_iter()):\n",
    "    cleaned = clean_text(query.text)\n",
    "    if not cleaned.strip():\n",
    "        continue\n",
    "\n",
    "    if query.query_id not in bert_map:\n",
    "        continue  # تجاهل الاستعلامات التي لا يوجد لها تمثيل BERT\n",
    "\n",
    "    # تمثيل TF-IDF\n",
    "    tfidf_vector = vectorizer.transform([cleaned])\n",
    "    row = tfidf_vector.getrow(0).tocoo()\n",
    "\n",
    "    # بناء الإدخال\n",
    "    doc = {\n",
    "        \"query_id\": query.query_id,\n",
    "        \"original_text\": query.text,\n",
    "        \"clean_text\": cleaned,\n",
    "        \"bert_embedding\": bert_map[query.query_id].tolist(),\n",
    "        \"tfidf_indices\": row.col.tolist(),\n",
    "        \"tfidf_values\": row.data.tolist()\n",
    "    }\n",
    "    query_docs.append(doc)\n",
    "\n",
    "    # تجميع للـ joblib لاحقًا\n",
    "    query_ids.append(query.query_id)\n",
    "    original_texts.append(query.text)\n",
    "    clean_texts.append(cleaned)\n",
    "    tfidf_indices_list.append(row.col.tolist())\n",
    "    tfidf_values_list.append(row.data.tolist())\n",
    "\n",
    "# ------------------ تخزين في MongoDB -------------------\n",
    "client = MongoClient(\"mongodb://localhost:27017/\")\n",
    "db = client[\"ir_project\"]\n",
    "collection = db[\"queries_quora_test_hybrid_antique\"]\n",
    "collection.delete_many({})\n",
    "collection.insert_many(query_docs)\n",
    "\n",
    "print(f\"✅ تم تخزين {len(query_docs)} استعلام هجين في MongoDB داخل: {collection.name}\")\n",
    "\n",
    "# ------------------ حفظ بصيغة joblib -------------------\n",
    "os.makedirs(os.path.dirname(output_path), exist_ok=True)\n",
    "\n",
    "joblib.dump({\n",
    "    \"query_ids\": query_ids,\n",
    "    \"original_texts\": original_texts,\n",
    "    \"clean_texts\": clean_texts,\n",
    "    \"bert_embeddings\": [bert_map[qid].tolist() for qid in query_ids],\n",
    "    \"tfidf_indices\": tfidf_indices_list,\n",
    "    \"tfidf_values\": tfidf_values_list,\n",
    "    \"bert_model_name\": bert_model_name\n",
    "}, output_path)\n",
    "\n",
    "print(f\"📦 تم حفظ تمثيل الاستعلامات الهجين في: {output_path}\")\n"
   ],
   "id": "7c1302d64ff69ab",
   "outputs": [
    {
     "name": "stderr",
     "output_type": "stream",
     "text": [
      "[nltk_data] Downloading package wordnet to\n",
      "[nltk_data]     C:\\Users\\Azzam\\AppData\\Roaming\\nltk_data...\n",
      "[nltk_data]   Package wordnet is already up-to-date!\n",
      "[nltk_data] Downloading package omw-1.4 to\n",
      "[nltk_data]     C:\\Users\\Azzam\\AppData\\Roaming\\nltk_data...\n",
      "[nltk_data]   Package omw-1.4 is already up-to-date!\n"
     ]
    },
    {
     "name": "stdout",
     "output_type": "stream",
     "text": [
      "🧼 تنظيف الاستعلامات...\n"
     ]
    },
    {
     "name": "stderr",
     "output_type": "stream",
     "text": [
      "176it [00:00, 386.50it/s]\n"
     ]
    },
    {
     "name": "stdout",
     "output_type": "stream",
     "text": [
      "✅ تم تخزين 176 استعلام هجين في MongoDB داخل: queries_quora_test_hybrid_antique\n",
      "📦 تم حفظ تمثيل الاستعلامات الهجين في: C:\\Users\\Azzam\\PycharmProjects\\PythonProject\\Query Processing\\hybridQuery\\Antique\\train\\hybird_query_data.joblib\n"
     ]
    }
   ],
   "execution_count": 5
  }
 ],
 "metadata": {
  "kernelspec": {
   "display_name": "Python 3",
   "language": "python",
   "name": "python3"
  },
  "language_info": {
   "codemirror_mode": {
    "name": "ipython",
    "version": 2
   },
   "file_extension": ".py",
   "mimetype": "text/x-python",
   "name": "python",
   "nbconvert_exporter": "python",
   "pygments_lexer": "ipython2",
   "version": "2.7.6"
  }
 },
 "nbformat": 4,
 "nbformat_minor": 5
}
