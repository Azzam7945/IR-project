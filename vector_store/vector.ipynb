{
 "cells": [
  {
   "cell_type": "code",
   "id": "initial_id",
   "metadata": {
    "collapsed": true,
    "ExecuteTime": {
     "end_time": "2025-06-29T08:20:15.913396Z",
     "start_time": "2025-06-29T08:19:13.107154Z"
    }
   },
   "source": [
    "import os\n",
    "import joblib\n",
    "import numpy as np\n",
    "import faiss\n",
    "\n",
    "# 🔧 مسارات ملفات embedding\n",
    "embedding_files = {\n",
    "    \"beir_quora_test\": r\"C:\\Users\\Azzam\\PycharmProjects\\PythonProject\\Data Representation\\Bert\\beir\\quora\\test\\doc\\bert_embedding.joblib\",\n",
    "    \"antique_train\": r\"C:\\Users\\Azzam\\PycharmProjects\\PythonProject\\Data Representation\\Bert\\antique\\train\\doc\\bert_embedding.joblib\"\n",
    "}\n",
    "\n",
    "# 🔧 مجلد الإخراج النهائي للـ faiss + doc_ids\n",
    "OUTPUT_DIR = r\"C:\\Users\\Azzam\\PycharmProjects\\PythonProject\\vector_store\\bert\"\n",
    "\n",
    "os.makedirs(OUTPUT_DIR, exist_ok=True)\n",
    "\n",
    "# ✅ تابع بناء FAISS index\n",
    "def build_faiss_index(embeddings):\n",
    "    embeddings = np.vstack(embeddings).astype(np.float32)\n",
    "    dim = embeddings.shape[1]\n",
    "    index = faiss.IndexFlatL2(dim)\n",
    "    index.add(embeddings)\n",
    "    return index\n",
    "\n",
    "# ✅ تنفيذ على كل ملف\n",
    "for name, path in embedding_files.items():\n",
    "    print(f\"\\n📦 معالجة: {name}\")\n",
    "\n",
    "    data = joblib.load(path)\n",
    "    embeddings = data[\"embeddings_matrix\"]\n",
    "    doc_ids = data[\"doc_ids\"]\n",
    "\n",
    "    # ✅ بناء الفهرس\n",
    "    index = build_faiss_index(embeddings)\n",
    "\n",
    "    # ✅ حفظ النتائج\n",
    "    faiss_path = os.path.join(OUTPUT_DIR, f\"{name}.faiss\")\n",
    "    doc_ids_path = os.path.join(OUTPUT_DIR, f\"{name}_doc_ids.joblib\")\n",
    "\n",
    "    faiss.write_index(index, faiss_path)\n",
    "    joblib.dump(doc_ids, doc_ids_path)\n",
    "\n",
    "    print(f\"✅ تم حفظ الفهرس في: {faiss_path}\")\n",
    "    print(f\"✅ تم حفظ doc_ids في: {doc_ids_path}\")\n"
   ],
   "outputs": [
    {
     "name": "stdout",
     "output_type": "stream",
     "text": [
      "\n",
      "📦 معالجة: beir_quora_test\n",
      "✅ تم حفظ الفهرس في: C:\\Users\\Azzam\\PycharmProjects\\PythonProject\\vector_store\\bert\\beir_quora_test.faiss\n",
      "✅ تم حفظ doc_ids في: C:\\Users\\Azzam\\PycharmProjects\\PythonProject\\vector_store\\bert\\beir_quora_test_doc_ids.joblib\n",
      "\n",
      "📦 معالجة: antique_train\n",
      "✅ تم حفظ الفهرس في: C:\\Users\\Azzam\\PycharmProjects\\PythonProject\\vector_store\\bert\\antique_train.faiss\n",
      "✅ تم حفظ doc_ids في: C:\\Users\\Azzam\\PycharmProjects\\PythonProject\\vector_store\\bert\\antique_train_doc_ids.joblib\n"
     ]
    }
   ],
   "execution_count": 3
  }
 ],
 "metadata": {
  "kernelspec": {
   "display_name": "Python 3",
   "language": "python",
   "name": "python3"
  },
  "language_info": {
   "codemirror_mode": {
    "name": "ipython",
    "version": 2
   },
   "file_extension": ".py",
   "mimetype": "text/x-python",
   "name": "python",
   "nbconvert_exporter": "python",
   "pygments_lexer": "ipython2",
   "version": "2.7.6"
  }
 },
 "nbformat": 4,
 "nbformat_minor": 5
}
