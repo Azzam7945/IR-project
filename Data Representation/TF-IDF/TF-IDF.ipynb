{
 "cells": [
  {
   "cell_type": "code",
   "id": "initial_id",
   "metadata": {
    "collapsed": true,
    "ExecuteTime": {
     "end_time": "2025-06-22T15:01:45.728207Z",
     "start_time": "2025-06-22T15:01:41.099961Z"
    }
   },
   "source": [
    "import os\n",
    "import json\n",
    "import string\n",
    "import nltk\n",
    "import joblib\n",
    "from pymongo import MongoClient\n",
    "from tqdm import tqdm\n",
    "from nltk.corpus import stopwords\n",
    "from nltk.stem import WordNetLemmatizer\n",
    "from nltk.tokenize import word_tokenize\n",
    "from sklearn.feature_extraction.text import TfidfVectorizer\n",
    "\n",
    "# تحميل الموارد\n",
    "nltk.download('stopwords')\n",
    "nltk.download('wordnet')\n",
    "nltk.download('punkt')\n",
    "nltk.download('omw-1.4')\n",
    "\n",
    "stop_words = set(stopwords.words('english'))\n",
    "lemmatizer = WordNetLemmatizer()\n",
    "punctuations = set(string.punctuation)\n",
    "\n",
    "def preprocess(text):\n",
    "    text = text.lower()\n",
    "    tokens = word_tokenize(text)\n",
    "    cleaned_tokens = []\n",
    "    for token in tokens:\n",
    "        if token in punctuations:\n",
    "            continue\n",
    "        if token in stop_words:\n",
    "            continue\n",
    "        if token.isdigit():\n",
    "            continue\n",
    "        lemma = lemmatizer.lemmatize(token)\n",
    "        if len(lemma) < 3:\n",
    "            continue\n",
    "        cleaned_tokens.append(lemma)\n",
    "    return ' '.join(cleaned_tokens)\n",
    "\n",
    "def custom_tokenizer(text):\n",
    "    return text.split()\n",
    "\n",
    "def process_tfidf_with_cleaning(dataset_name, collection_name):\n",
    "    print(f\"🚀 Processing TF-IDF from MongoDB collection: {collection_name} using new cleaning...\")\n",
    "\n",
    "    # الاتصال بقاعدة البيانات\n",
    "    client = MongoClient(\"mongodb://localhost:27017/\")\n",
    "    db = client[\"ir_project\"]\n",
    "    collection = db[collection_name]\n",
    "\n",
    "    documents = list(collection.find({}, {\"_id\": 0, \"doc_id\": 1, \"original_text\": 1}))\n",
    "    documents = [doc for doc in documents if doc.get(\"original_text\", \"\").strip()]\n",
    "\n",
    "    if not documents:\n",
    "        print(\"❌ لا توجد نصوص أصلية متاحة للمعالجة.\")\n",
    "        return\n",
    "\n",
    "    doc_ids = [doc[\"doc_id\"] for doc in documents]\n",
    "    processed_texts = [preprocess(doc[\"original_text\"]) for doc in tqdm(documents)]\n",
    "\n",
    "    vectorizer = TfidfVectorizer(\n",
    "        tokenizer=custom_tokenizer,\n",
    "        lowercase=False,\n",
    "        preprocessor=None,\n",
    "        token_pattern=None,\n",
    "        min_df=1\n",
    "    )\n",
    "    tfidf_matrix = vectorizer.fit_transform(processed_texts)\n",
    "\n",
    "    # تخزين النتائج في MongoDB (بدون تغيير)\n",
    "    feature_names = vectorizer.get_feature_names_out()\n",
    "    tfidf_data = []\n",
    "    for i, doc_id in enumerate(tqdm(doc_ids)):\n",
    "        row = tfidf_matrix[i]\n",
    "        values = row.data\n",
    "        indices = row.indices\n",
    "        tfidf_scores = {feature_names[idx]: float(val) for idx, val in zip(indices, values)}\n",
    "        tfidf_data.append({\n",
    "            \"doc_id\": doc_id,\n",
    "            \"tfidf\": tfidf_scores\n",
    "        })\n",
    "\n",
    "    tfidf_collection_name = f\"tfidf_{collection_name}_recleaned\"\n",
    "    tfidf_collection = db[tfidf_collection_name]\n",
    "    tfidf_collection.delete_many({})\n",
    "    tfidf_collection.insert_many(tfidf_data)\n",
    "    print(f\"✅ TF-IDF stored in MongoDB collection: {tfidf_collection_name}\")\n",
    "\n",
    "    # -------------------------- #\n",
    "    # التخزين باستخدام joblib\n",
    "    # -------------------------- #\n",
    "    save_path = os.path.join(dataset_name.replace(\"/\", os.sep), \"doc\")\n",
    "    os.makedirs(save_path, exist_ok=True)\n",
    "    joblib_path = os.path.join(save_path, \"tfidf_data.joblib\")\n",
    "\n",
    "    # حفظ dict فيه المصفوفة والـvectorizer\n",
    "    joblib.dump({\n",
    "        \"tfidf_matrix\": tfidf_matrix,\n",
    "        \"vectorizer\": vectorizer,\n",
    "        \"doc_ids\": doc_ids\n",
    "    }, joblib_path)\n",
    "\n",
    "    print(f\"✅ TF-IDF matrix and vectorizer saved to joblib file: {joblib_path}\")\n"
   ],
   "outputs": [
    {
     "name": "stderr",
     "output_type": "stream",
     "text": [
      "[nltk_data] Downloading package stopwords to\n",
      "[nltk_data]     C:\\Users\\Azzam\\AppData\\Roaming\\nltk_data...\n",
      "[nltk_data]   Package stopwords is already up-to-date!\n",
      "[nltk_data] Downloading package wordnet to\n",
      "[nltk_data]     C:\\Users\\Azzam\\AppData\\Roaming\\nltk_data...\n",
      "[nltk_data]   Package wordnet is already up-to-date!\n",
      "[nltk_data] Downloading package punkt to\n",
      "[nltk_data]     C:\\Users\\Azzam\\AppData\\Roaming\\nltk_data...\n",
      "[nltk_data]   Package punkt is already up-to-date!\n",
      "[nltk_data] Downloading package omw-1.4 to\n",
      "[nltk_data]     C:\\Users\\Azzam\\AppData\\Roaming\\nltk_data...\n",
      "[nltk_data]   Package omw-1.4 is already up-to-date!\n"
     ]
    }
   ],
   "execution_count": 1
  },
  {
   "metadata": {
    "ExecuteTime": {
     "end_time": "2025-06-19T11:41:30.846482Z",
     "start_time": "2025-06-19T11:41:30.818221Z"
    }
   },
   "cell_type": "code",
   "source": "process_tfidf_with_cleaning(\"beir/quora/test\", \"documents_quora_test\")",
   "id": "84732bb9528f7927",
   "outputs": [
    {
     "name": "stdout",
     "output_type": "stream",
     "text": [
      "🚀 Processing TF-IDF from MongoDB collection: documents_quora_test using new cleaning...\n",
      "❌ لا توجد نصوص أصلية متاحة للمعالجة.\n"
     ]
    }
   ],
   "execution_count": 3
  },
  {
   "metadata": {
    "ExecuteTime": {
     "end_time": "2025-06-22T15:09:27.267354Z",
     "start_time": "2025-06-22T15:02:00.107471Z"
    }
   },
   "cell_type": "code",
   "source": [
    "# Antique Dataset\n",
    "process_tfidf_with_cleaning(\"antique/train\", \"documents_test\")"
   ],
   "id": "d119e0607567b983",
   "outputs": [
    {
     "name": "stdout",
     "output_type": "stream",
     "text": [
      "🚀 Processing TF-IDF from MongoDB collection: documents_test using new cleaning...\n"
     ]
    },
    {
     "name": "stderr",
     "output_type": "stream",
     "text": [
      "100%|██████████| 403666/403666 [06:01<00:00, 1117.29it/s]\n",
      "100%|██████████| 403666/403666 [00:56<00:00, 7200.09it/s]\n"
     ]
    },
    {
     "name": "stdout",
     "output_type": "stream",
     "text": [
      "✅ TF-IDF stored in MongoDB collection: tfidf_documents_test_recleaned\n",
      "✅ TF-IDF matrix and vectorizer saved to joblib file: antique\\train\\doc\\tfidf_data.joblib\n"
     ]
    }
   ],
   "execution_count": 2
  },
  {
   "metadata": {
    "ExecuteTime": {
     "end_time": "2025-07-03T13:50:23.133516Z",
     "start_time": "2025-07-03T13:49:47.751430Z"
    }
   },
   "cell_type": "code",
   "source": [
    "import joblib\n",
    "\n",
    "def custom_tokenizer(text):\n",
    "    return text.split()\n",
    "\n",
    "data = joblib.load(r\"C:\\Users\\Azzam\\PycharmProjects\\PythonProject\\Data Representation\\Bert\\beir\\quora\\test\\doc\\bert_embedding.joblib\")\n",
    "\n",
    "\n",
    "print(data.keys())\n",
    "\n"
   ],
   "id": "907a8fb070387d96",
   "outputs": [
    {
     "name": "stdout",
     "output_type": "stream",
     "text": [
      "dict_keys(['doc_ids', 'embeddings_matrix', 'model_name'])\n"
     ]
    }
   ],
   "execution_count": 2
  }
 ],
 "metadata": {
  "kernelspec": {
   "display_name": "Python 3",
   "language": "python",
   "name": "python3"
  },
  "language_info": {
   "codemirror_mode": {
    "name": "ipython",
    "version": 2
   },
   "file_extension": ".py",
   "mimetype": "text/x-python",
   "name": "python",
   "nbconvert_exporter": "python",
   "pygments_lexer": "ipython2",
   "version": "2.7.6"
  }
 },
 "nbformat": 4,
 "nbformat_minor": 5
}
