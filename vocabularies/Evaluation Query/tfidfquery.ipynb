{
 "cells": [
  {
   "cell_type": "code",
   "id": "initial_id",
   "metadata": {
    "collapsed": true,
    "ExecuteTime": {
     "end_time": "2025-07-03T08:27:39.065415Z",
     "start_time": "2025-07-03T08:27:37.264065Z"
    }
   },
   "source": [
    "import os\n",
    "import json\n",
    "import joblib\n",
    "import numpy as np\n",
    "from tqdm import tqdm\n",
    "from sklearn.metrics.pairwise import cosine_similarity\n",
    "from scipy.sparse import csr_matrix\n",
    "\n",
    "\n",
    "\n",
    "def custom_tokenizer(text):\n",
    "    return text.split()\n",
    "\n",
    "\n",
    "def process_and_match_queries(\n",
    "    enhanced_queries_path: str,\n",
    "    docs_joblib_path: str,\n",
    "    tfidf_output_path: str,\n",
    "    match_output_path: str,\n",
    "    top_k: int = 100\n",
    "):\n",
    "    print(\"📥 تحميل الاستعلامات المحسنة...\")\n",
    "    enhanced_data: dict = joblib.load(enhanced_queries_path)\n",
    "    query_ids = list(enhanced_data.keys())\n",
    "    enhanced_texts = list(enhanced_data.values())\n",
    "\n",
    "    print(\"📄 تحميل بيانات الوثائق (TF-IDF)...\")\n",
    "    docs_data = joblib.load(docs_joblib_path)\n",
    "    doc_ids = docs_data[\"doc_ids\"]\n",
    "    tfidf_docs: csr_matrix = docs_data[\"tfidf_matrix\"]\n",
    "    vectorizer = docs_data[\"vectorizer\"]\n",
    "\n",
    "    print(\"🔢 تمثيل الاستعلامات المحسنة بـ TF-IDF...\")\n",
    "    query_tfidf_matrix = vectorizer.transform(enhanced_texts)\n",
    "\n",
    "    # حفظ التمثيل\n",
    "    joblib.dump({\n",
    "        \"query_ids\": query_ids,\n",
    "        \"enhanced_queries\": enhanced_texts,\n",
    "        \"query_tfidf_matrix\": query_tfidf_matrix,\n",
    "        \"vectorizer\": vectorizer\n",
    "    }, tfidf_output_path)\n",
    "    print(f\"✅ تم حفظ تمثيل TF-IDF في: {tfidf_output_path}\")\n",
    "\n",
    "    print(\"🤝 بدء المطابقة بين الاستعلامات والوثائق...\")\n",
    "    results = {}\n",
    "\n",
    "    for i, qid in tqdm(enumerate(query_ids), total=len(query_ids), desc=\"🔍 مطابقة الاستعلامات\"):\n",
    "        sims = cosine_similarity(query_tfidf_matrix[i], tfidf_docs).flatten()\n",
    "        top_indices = np.argpartition(sims, -top_k)[-top_k:]\n",
    "        top_scores = sims[top_indices]\n",
    "        sorted_indices = top_indices[np.argsort(-top_scores)]\n",
    "        results[qid] = [(doc_ids[idx], float(sims[idx])) for idx in sorted_indices]\n",
    "\n",
    "    # حفظ نتائج المطابقة\n",
    "    os.makedirs(os.path.dirname(match_output_path), exist_ok=True)\n",
    "    with open(match_output_path, \"w\", encoding=\"utf-8\") as f:\n",
    "        json.dump(results, f, indent=2)\n",
    "\n",
    "    print(f\"✅ تم حفظ نتائج المطابقة في: {match_output_path}\")\n"
   ],
   "outputs": [],
   "execution_count": 1
  },
  {
   "metadata": {
    "ExecuteTime": {
     "end_time": "2025-07-03T09:42:38.295522Z",
     "start_time": "2025-07-03T09:42:24.173520Z"
    }
   },
   "cell_type": "code",
   "source": [
    "if __name__ == \"__main__\":\n",
    "    enhanced_queries_path = r\"C:\\Users\\Azzam\\PycharmProjects\\PythonProject\\vocabularies\\Evaluation Query\\enhanced_queries_corrected_part1.joblib\"\n",
    "    docs_joblib_path = r\"C:\\Users\\Azzam\\PycharmProjects\\PythonProject\\Data Representation\\TF-IDF\\beir\\quora\\test\\doc\\tfidf_data.joblib\"\n",
    "    tfidf_output_path = r\"C:\\Users\\Azzam\\PycharmProjects\\PythonProject\\Query Processing\\tfidf\\queries_tfidf_enhanced_qoura.joblib\"\n",
    "    match_output_path = r\"C:\\Users\\Azzam\\PycharmProjects\\PythonProject\\Query Matching & Ranking\\TfidfMatching\\tfidf_results_enhanced_qoura.json\"\n",
    "\n",
    "    process_and_match_queries(\n",
    "        enhanced_queries_path=enhanced_queries_path,\n",
    "        docs_joblib_path=docs_joblib_path,\n",
    "        tfidf_output_path=tfidf_output_path,\n",
    "        match_output_path=match_output_path,\n",
    "        top_k=100\n",
    "    )\n"
   ],
   "id": "3e4c717560349584",
   "outputs": [
    {
     "name": "stdout",
     "output_type": "stream",
     "text": [
      "📥 تحميل الاستعلامات المحسنة...\n",
      "📄 تحميل بيانات الوثائق (TF-IDF)...\n",
      "🔢 تمثيل الاستعلامات المحسنة بـ TF-IDF...\n",
      "✅ تم حفظ تمثيل TF-IDF في: C:\\Users\\Azzam\\PycharmProjects\\PythonProject\\Query Processing\\tfidf\\queries_tfidf_enhanced_qoura.joblib\n",
      "🤝 بدء المطابقة بين الاستعلامات والوثائق...\n"
     ]
    },
    {
     "name": "stderr",
     "output_type": "stream",
     "text": [
      "🔍 مطابقة الاستعلامات: 100%|██████████| 100/100 [00:12<00:00,  7.93it/s]\n"
     ]
    },
    {
     "name": "stdout",
     "output_type": "stream",
     "text": [
      "✅ تم حفظ نتائج المطابقة في: C:\\Users\\Azzam\\PycharmProjects\\PythonProject\\Query Matching & Ranking\\TfidfMatching\\tfidf_results_enhanced_qoura.json\n"
     ]
    }
   ],
   "execution_count": 6
  }
 ],
 "metadata": {
  "kernelspec": {
   "display_name": "Python 3",
   "language": "python",
   "name": "python3"
  },
  "language_info": {
   "codemirror_mode": {
    "name": "ipython",
    "version": 2
   },
   "file_extension": ".py",
   "mimetype": "text/x-python",
   "name": "python",
   "nbconvert_exporter": "python",
   "pygments_lexer": "ipython2",
   "version": "2.7.6"
  }
 },
 "nbformat": 4,
 "nbformat_minor": 5
}
