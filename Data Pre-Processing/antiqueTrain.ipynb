{
 "cells": [
  {
   "cell_type": "code",
   "execution_count": 1,
   "id": "bf1d6ce6b625d770",
   "metadata": {
    "ExecuteTime": {
     "end_time": "2025-06-22T15:00:27.362742Z",
     "start_time": "2025-06-22T14:46:49.812200Z"
    }
   },
   "outputs": [
    {
     "name": "stderr",
     "output_type": "stream",
     "text": [
      "[nltk_data] Downloading package stopwords to\n",
      "[nltk_data]     C:\\Users\\Azzam\\AppData\\Roaming\\nltk_data...\n",
      "[nltk_data]   Package stopwords is already up-to-date!\n",
      "[nltk_data] Downloading package wordnet to\n",
      "[nltk_data]     C:\\Users\\Azzam\\AppData\\Roaming\\nltk_data...\n",
      "[nltk_data]   Package wordnet is already up-to-date!\n",
      "[nltk_data] Downloading package omw-1.4 to\n",
      "[nltk_data]     C:\\Users\\Azzam\\AppData\\Roaming\\nltk_data...\n",
      "[nltk_data]   Package omw-1.4 is already up-to-date!\n",
      "[nltk_data] Downloading package punkt to\n",
      "[nltk_data]     C:\\Users\\Azzam\\AppData\\Roaming\\nltk_data...\n",
      "[nltk_data]   Package punkt is already up-to-date!\n"
     ]
    },
    {
     "name": "stdout",
     "output_type": "stream",
     "text": [
      "🚀 Processing documents from antique/train...\n"
     ]
    },
    {
     "name": "stderr",
     "output_type": "stream",
     "text": [
      "100%|██████████| 403666/403666 [13:26<00:00, 500.82it/s]\n"
     ]
    },
    {
     "name": "stdout",
     "output_type": "stream",
     "text": [
      "✅ Saved cleaned documents to JSON file: antique\\train\\doc\\docs.json\n",
      "✅ Stored cleaned documents in MongoDB collection: documents_test\n"
     ]
    }
   ],
   "source": [
    "import os\n",
    "import json\n",
    "import string\n",
    "import nltk\n",
    "from pymongo import MongoClient\n",
    "from tqdm import tqdm\n",
    "from nltk.corpus import stopwords\n",
    "from nltk.stem import WordNetLemmatizer\n",
    "from nltk.tokenize import word_tokenize\n",
    "import ir_datasets\n",
    "\n",
    "# ------------- تحميل الموارد -------------\n",
    "nltk.download('stopwords')\n",
    "nltk.download('wordnet')\n",
    "nltk.download('omw-1.4')\n",
    "nltk.download('punkt')\n",
    "\n",
    "stop_words = set(stopwords.words('english'))\n",
    "lemmatizer = WordNetLemmatizer()\n",
    "punctuations = set(string.punctuation)\n",
    "\n",
    "def preprocess(text):\n",
    "    \"\"\"تنظيف النص وإرجاع قائمة كلمات\"\"\"\n",
    "    text = text.lower()\n",
    "    tokens = word_tokenize(text)\n",
    "    cleaned_tokens = []\n",
    "    for token in tokens:\n",
    "        if token in punctuations:\n",
    "            continue\n",
    "        if token in stop_words:\n",
    "            continue\n",
    "        if token.isdigit():\n",
    "            continue\n",
    "        lemma = lemmatizer.lemmatize(token)\n",
    "        if len(lemma) < 3:\n",
    "            continue\n",
    "        cleaned_tokens.append(lemma)\n",
    "    return cleaned_tokens\n",
    "\n",
    "# ---------------- تحميل مجموعة البيانات ----------------\n",
    "dataset_name = \"antique/train\"\n",
    "dataset = ir_datasets.load(dataset_name)\n",
    "\n",
    "# -------------- إعداد قاعدة البيانات -------------------\n",
    "client = MongoClient(\"mongodb://localhost:27017/\")\n",
    "db = client[\"ir_project\"]\n",
    "collection_docs = db[\"documents_test\"]\n",
    "\n",
    "# -------------- إعداد مجلد التخزين --------------------\n",
    "save_path = os.path.join(dataset_name.replace(\"/\", os.sep), \"doc\")\n",
    "os.makedirs(save_path, exist_ok=True)\n",
    "docs_json_path = os.path.join(save_path, \"docs.json\")\n",
    "\n",
    "# ------------ معالجة وتخزين الوثائق ---------------------\n",
    "print(f\"🚀 Processing documents from {dataset_name}...\")\n",
    "\n",
    "all_docs = []\n",
    "\n",
    "for doc in tqdm(dataset.docs_iter(), total=dataset.docs_count()):\n",
    "    clean_tokens = preprocess(doc.text)\n",
    "    clean_text = ' '.join(clean_tokens)  # تخزين كنص وليس قائمة\n",
    "\n",
    "    # تخزين كامل في MongoDB\n",
    "    doc_entry = {\n",
    "        \"doc_id\": doc.doc_id,\n",
    "        \"original_text\": doc.text,\n",
    "        \"clean_text\": clean_text\n",
    "    }\n",
    "    collection_docs.insert_one(doc_entry)\n",
    "\n",
    "    # تخزين مختصر في JSON (doc_id + نص نظيف)\n",
    "    all_docs.append({\n",
    "        \"doc_id\": doc.doc_id,\n",
    "        \"clean_text\": clean_text\n",
    "    })\n",
    "\n",
    "# حفظ نسخة JSON على القرص\n",
    "with open(docs_json_path, \"w\", encoding=\"utf-8\") as f:\n",
    "    json.dump(all_docs, f, ensure_ascii=False, indent=2)\n",
    "\n",
    "print(f\"✅ Saved cleaned documents to JSON file: {docs_json_path}\")\n",
    "print(f\"✅ Stored cleaned documents in MongoDB collection: {collection_docs.name}\")\n"
   ]
  }
 ],
 "metadata": {
  "kernelspec": {
   "display_name": "Python 3",
   "language": "python",
   "name": "python3"
  },
  "language_info": {
   "codemirror_mode": {
    "name": "ipython",
    "version": 2
   },
   "file_extension": ".py",
   "mimetype": "text/x-python",
   "name": "python",
   "nbconvert_exporter": "python",
   "pygments_lexer": "ipython2",
   "version": "2.7.6"
  }
 },
 "nbformat": 4,
 "nbformat_minor": 5
}
