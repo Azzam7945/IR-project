{
 "cells": [
  {
   "cell_type": "code",
   "id": "initial_id",
   "metadata": {
    "collapsed": true,
    "ExecuteTime": {
     "end_time": "2025-06-29T09:56:20.758013Z",
     "start_time": "2025-06-29T09:54:40.743385Z"
    }
   },
   "source": [
    "import joblib\n",
    "import faiss\n",
    "import numpy as np\n",
    "import json\n",
    "import os\n",
    "from tqdm import tqdm\n",
    "\n",
    "def search_with_faiss(\n",
    "    doc_embedding_path: str,\n",
    "    query_embedding_path: str,\n",
    "    faiss_index_path: str,\n",
    "    output_path: str = \"faiss_results.json\",\n",
    "    top_k: int = 100,\n",
    "    batch_size_queries: int = 100\n",
    "):\n",
    "    print(\"📥 تحميل تمثيلات الوثائق...\")\n",
    "    doc_data = joblib.load(doc_embedding_path)\n",
    "    doc_ids = doc_data[\"doc_ids\"]\n",
    "\n",
    "    print(\"📥 تحميل تمثيلات الاستعلامات...\")\n",
    "    query_data = joblib.load(query_embedding_path)\n",
    "    query_ids = query_data[\"query_ids\"]\n",
    "    query_embeddings = np.vstack(query_data[\"embeddings\"])\n",
    "\n",
    "    print(\"📦 تحميل FAISS Index ...\")\n",
    "    index = faiss.read_index(faiss_index_path)\n",
    "\n",
    "    results = {}\n",
    "    num_queries = len(query_embeddings)\n",
    "    print(f\"📊 عدد الاستعلامات: {num_queries}, عدد الوثائق: {len(doc_ids)}\")\n",
    "\n",
    "    for start in tqdm(range(0, num_queries, batch_size_queries), desc=\"🔍 البحث في FAISS\"):\n",
    "        end = min(start + batch_size_queries, num_queries)\n",
    "        batch_queries = query_embeddings[start:end].astype(np.float32)\n",
    "\n",
    "        distances, indices = index.search(batch_queries, top_k)\n",
    "\n",
    "        for i, query_idx in enumerate(range(start, end)):\n",
    "            query_id = query_ids[query_idx]\n",
    "            results[query_id] = [\n",
    "                (doc_ids[int(doc_idx)], float(1 / (1 + dist)))  # تحويل المسافة إلى score\n",
    "                for doc_idx, dist in zip(indices[i], distances[i])\n",
    "                if doc_idx >= 0 and doc_idx < len(doc_ids)\n",
    "            ]\n",
    "\n",
    "    os.makedirs(os.path.dirname(output_path), exist_ok=True)\n",
    "    with open(output_path, \"w\", encoding=\"utf-8\") as f:\n",
    "        json.dump(results, f, indent=2, ensure_ascii=False)\n",
    "\n",
    "    print(f\"✅ تم حفظ نتائج FAISS في: {output_path}\")\n",
    "\n",
    "\n",
    "if __name__ == \"__main__\":\n",
    "    doc_embedding_path = r\"C:\\Users\\Azzam\\PycharmProjects\\PythonProject\\Data Representation\\Bert\\beir\\quora\\test\\doc\\bert_embedding.joblib\"\n",
    "    query_embedding_path = r\"C:\\Users\\Azzam\\PycharmProjects\\PythonProject\\Query Processing\\Bertquery\\BEIR\\quora\\test\\query_embeddings\\bert_query_embeddings.joblib\"\n",
    "    faiss_index_path = r\"C:\\Users\\Azzam\\PycharmProjects\\PythonProject\\vector_store\\bert\\beir_quora_test.faiss\"\n",
    "    output_path = r\"C:\\Users\\Azzam\\PycharmProjects\\PythonProject\\Query Matching & Ranking\\Evaluation\\faiss_results.json\"\n",
    "\n",
    "    search_with_faiss(doc_embedding_path, query_embedding_path, faiss_index_path, output_path)\n"
   ],
   "outputs": [
    {
     "name": "stdout",
     "output_type": "stream",
     "text": [
      "📥 تحميل تمثيلات الوثائق...\n",
      "📥 تحميل تمثيلات الاستعلامات...\n",
      "📦 تحميل FAISS Index ...\n",
      "📊 عدد الاستعلامات: 10000, عدد الوثائق: 522931\n"
     ]
    },
    {
     "name": "stderr",
     "output_type": "stream",
     "text": [
      "🔍 البحث في FAISS: 100%|██████████| 100/100 [01:00<00:00,  1.65it/s]\n"
     ]
    },
    {
     "name": "stdout",
     "output_type": "stream",
     "text": [
      "✅ تم حفظ نتائج FAISS في: C:\\Users\\Azzam\\PycharmProjects\\PythonProject\\Query Matching & Ranking\\Evaluation\\faiss_results.json\n"
     ]
    }
   ],
   "execution_count": 2
  },
  {
   "metadata": {
    "ExecuteTime": {
     "end_time": "2025-06-29T09:57:58.650683Z",
     "start_time": "2025-06-29T09:57:55.374203Z"
    }
   },
   "cell_type": "code",
   "source": [
    "import json\n",
    "import ir_datasets\n",
    "from collections import defaultdict\n",
    "import numpy as np\n",
    "from tqdm import tqdm\n",
    "\n",
    "# تحميل qrels من BEIR Quora\n",
    "dataset = ir_datasets.load(\"beir/quora/test\")\n",
    "qrels = defaultdict(set)\n",
    "for qrel in dataset.qrels_iter():\n",
    "    if int(qrel.relevance) > 0:\n",
    "        qrels[qrel.query_id].add(qrel.doc_id)\n",
    "\n",
    "# تحميل نتائج المطابقة من ملف JSON\n",
    "with open(r\"C:\\Users\\Azzam\\PycharmProjects\\PythonProject\\Query Matching & Ranking\\Evaluation\\faiss_results.json\", \"r\", encoding=\"utf-8\") as f:\n",
    "    results = json.load(f)\n",
    "\n",
    "# دوال التقييم\n",
    "def precision_at_k(retrieved, relevant, k):\n",
    "    retrieved_k = retrieved[:k]\n",
    "    if not retrieved_k:\n",
    "        return 0.0\n",
    "    return len([doc for doc in retrieved_k if doc in relevant]) / k\n",
    "\n",
    "def recall_at_k(retrieved, relevant, k):\n",
    "    retrieved_k = retrieved[:k]\n",
    "    if not relevant:\n",
    "        return 0.0\n",
    "    return len([doc for doc in retrieved_k if doc in relevant]) / len(relevant)\n",
    "\n",
    "def average_precision(retrieved, relevant, k):\n",
    "    score = 0.0\n",
    "    hits = 0\n",
    "    for i, doc_id in enumerate(retrieved[:k], start=1):\n",
    "        if doc_id in relevant:\n",
    "            hits += 1\n",
    "            score += hits / i\n",
    "    return score / min(len(relevant), k) if relevant else 0.0\n",
    "\n",
    "def dcg(retrieved, relevant, k):\n",
    "    return sum([(1 if retrieved[i] in relevant else 0) / np.log2(i + 2) for i in range(min(len(retrieved), k))])\n",
    "\n",
    "def idcg(relevant, k):\n",
    "    return sum([1 / np.log2(i + 2) for i in range(min(len(relevant), k))])\n",
    "\n",
    "def ndcg_at_k(retrieved, relevant, k):\n",
    "    dcg_val = dcg(retrieved, relevant, k)\n",
    "    idcg_val = idcg(relevant, k)\n",
    "    return dcg_val / idcg_val if idcg_val > 0 else 0.0\n",
    "\n",
    "# التقييم لجميع الاستعلامات\n",
    "k = 10\n",
    "precisions, recalls, maps, ndcgs = [], [], [], []\n",
    "\n",
    "for qid, retrieved_docs in tqdm(results.items(), desc=\"📊 تقييم الاستعلامات\"):\n",
    "    retrieved_doc_ids = [doc_id for doc_id, _ in retrieved_docs]\n",
    "    relevant_doc_ids = qrels[qid]\n",
    "\n",
    "    precisions.append(precision_at_k(retrieved_doc_ids, relevant_doc_ids, k))\n",
    "    recalls.append(recall_at_k(retrieved_doc_ids, relevant_doc_ids, k))\n",
    "    maps.append(average_precision(retrieved_doc_ids, relevant_doc_ids, k))\n",
    "    ndcgs.append(ndcg_at_k(retrieved_doc_ids, relevant_doc_ids, k))\n",
    "\n",
    "# المتوسطات النهائية\n",
    "evaluation_results = {\n",
    "    \"Precision@10\": round(np.mean(precisions), 4),\n",
    "    \"Recall@10\": round(np.mean(recalls), 4),\n",
    "    \"MAP@10\": round(np.mean(maps), 4),\n",
    "    \"NDCG@10\": round(np.mean(ndcgs), 4),\n",
    "}\n",
    "\n",
    "print(\"📈 نتائج التقييم:\")\n",
    "for metric, value in evaluation_results.items():\n",
    "    print(f\"{metric}: {value}\")\n"
   ],
   "id": "5ad1009525df658f",
   "outputs": [
    {
     "name": "stderr",
     "output_type": "stream",
     "text": [
      "📊 تقييم الاستعلامات: 100%|██████████| 10000/10000 [00:00<00:00, 30512.33it/s]"
     ]
    },
    {
     "name": "stdout",
     "output_type": "stream",
     "text": [
      "📈 نتائج التقييم:\n",
      "Precision@10: 0.1211\n",
      "Recall@10: 0.8789\n",
      "MAP@10: 0.7493\n",
      "NDCG@10: 0.7923\n"
     ]
    },
    {
     "name": "stderr",
     "output_type": "stream",
     "text": [
      "\n"
     ]
    }
   ],
   "execution_count": 3
  },
  {
   "metadata": {
    "ExecuteTime": {
     "end_time": "2025-06-29T10:05:06.773684Z",
     "start_time": "2025-06-29T10:04:41.443777Z"
    }
   },
   "cell_type": "code",
   "source": [
    "import joblib\n",
    "import faiss\n",
    "import numpy as np\n",
    "import json\n",
    "import os\n",
    "from tqdm import tqdm\n",
    "\n",
    "def search_with_faiss(\n",
    "    doc_embedding_path: str,\n",
    "    query_embedding_path: str,\n",
    "    faiss_index_path: str,\n",
    "    output_path: str = \"faiss_antique_results.json\",\n",
    "    top_k: int = 100,\n",
    "    batch_size_queries: int = 100\n",
    "):\n",
    "    print(\"📥 تحميل تمثيلات الوثائق...\")\n",
    "    doc_data = joblib.load(doc_embedding_path)\n",
    "    doc_ids = doc_data[\"doc_ids\"]\n",
    "\n",
    "    print(\"📥 تحميل تمثيلات الاستعلامات...\")\n",
    "    query_data = joblib.load(query_embedding_path)\n",
    "    query_ids = query_data[\"query_ids\"]\n",
    "    query_embeddings = np.vstack(query_data[\"embeddings\"])\n",
    "\n",
    "    print(\"📦 تحميل FAISS Index ...\")\n",
    "    index = faiss.read_index(faiss_index_path)\n",
    "\n",
    "    results = {}\n",
    "    num_queries = len(query_embeddings)\n",
    "    print(f\"📊 عدد الاستعلامات: {num_queries}, عدد الوثائق: {len(doc_ids)}\")\n",
    "\n",
    "    for start in tqdm(range(0, num_queries, batch_size_queries), desc=\"🔍 البحث في FAISS\"):\n",
    "        end = min(start + batch_size_queries, num_queries)\n",
    "        batch_queries = query_embeddings[start:end].astype(np.float32)\n",
    "\n",
    "        distances, indices = index.search(batch_queries, top_k)\n",
    "\n",
    "        for i, query_idx in enumerate(range(start, end)):\n",
    "            query_id = query_ids[query_idx]\n",
    "            results[query_id] = [\n",
    "                (doc_ids[int(doc_idx)], float(1 / (1 + dist)))  # تحويل المسافة إلى score\n",
    "                for doc_idx, dist in zip(indices[i], distances[i])\n",
    "                if doc_idx >= 0 and doc_idx < len(doc_ids)\n",
    "            ]\n",
    "\n",
    "    os.makedirs(os.path.dirname(output_path), exist_ok=True)\n",
    "    with open(output_path, \"w\", encoding=\"utf-8\") as f:\n",
    "        json.dump(results, f, indent=2, ensure_ascii=False)\n",
    "\n",
    "    print(f\"✅ تم حفظ نتائج FAISS في: {output_path}\")\n",
    "\n",
    "\n",
    "if __name__ == \"__main__\":\n",
    "    doc_embedding_path = r\"C:\\Users\\Azzam\\PycharmProjects\\PythonProject\\Data Representation\\Bert\\antique\\train\\doc\\bert_embedding.joblib\"\n",
    "    query_embedding_path = r\"C:\\Users\\Azzam\\PycharmProjects\\PythonProject\\Query Processing\\Bertquery\\antique\\train\\query_embeddings\\bert_query_embeddings.joblib\"\n",
    "    faiss_index_path = r\"C:\\Users\\Azzam\\PycharmProjects\\PythonProject\\vector_store\\bert\\antique_train.faiss\"\n",
    "    output_path = r\"C:\\Users\\Azzam\\PycharmProjects\\PythonProject\\Query Matching & Ranking\\Evaluation\\faiss_antique_results.json\"\n",
    "\n",
    "    search_with_faiss(doc_embedding_path, query_embedding_path, faiss_index_path, output_path)\n"
   ],
   "id": "af937a9d7d40347a",
   "outputs": [
    {
     "name": "stdout",
     "output_type": "stream",
     "text": [
      "📥 تحميل تمثيلات الوثائق...\n",
      "📥 تحميل تمثيلات الاستعلامات...\n",
      "📦 تحميل FAISS Index ...\n",
      "📊 عدد الاستعلامات: 176, عدد الوثائق: 401768\n"
     ]
    },
    {
     "name": "stderr",
     "output_type": "stream",
     "text": [
      "🔍 البحث في FAISS: 100%|██████████| 2/2 [00:00<00:00,  3.25it/s]\n"
     ]
    },
    {
     "name": "stdout",
     "output_type": "stream",
     "text": [
      "✅ تم حفظ نتائج FAISS في: C:\\Users\\Azzam\\PycharmProjects\\PythonProject\\Query Matching & Ranking\\Evaluation\\faiss_antique_results.json\n"
     ]
    }
   ],
   "execution_count": 6
  },
  {
   "metadata": {
    "ExecuteTime": {
     "end_time": "2025-07-03T08:38:09.314092Z",
     "start_time": "2025-07-03T08:38:08.801468Z"
    }
   },
   "cell_type": "code",
   "source": [
    "import json\n",
    "import ir_datasets\n",
    "from collections import defaultdict\n",
    "import numpy as np\n",
    "from tqdm import tqdm\n",
    "\n",
    "\n",
    "qrels_path = r\"C:\\Users\\Azzam\\.ir_datasets\\antique\\test\\qrels\"\n",
    "qrels = defaultdict(set)\n",
    "\n",
    "with open(qrels_path, \"r\", encoding=\"utf-8\") as f:\n",
    "    for line in f:\n",
    "        parts = line.strip().split()\n",
    "        if len(parts) >= 4:\n",
    "            qid, _, docid, rel = parts\n",
    "            if int(rel) > 0:\n",
    "                qrels[qid].add(docid)\n",
    "\n",
    "\n",
    "# تحميل نتائج المطابقة من ملف JSON\n",
    "with open(r\"C:\\Users\\Azzam\\PycharmProjects\\PythonProject\\Query Matching & Ranking\\Evaluation\\faiss_antique_results.json\", \"r\", encoding=\"utf-8\") as f:\n",
    "    results = json.load(f)\n",
    "\n",
    "# دوال التقييم\n",
    "def precision_at_k(retrieved, relevant, k):\n",
    "    retrieved_k = retrieved[:k]\n",
    "    if not retrieved_k:\n",
    "        return 0.0\n",
    "    return len([doc for doc in retrieved_k if doc in relevant]) / k\n",
    "\n",
    "def recall_at_k(retrieved, relevant, k):\n",
    "    retrieved_k = retrieved[:k]\n",
    "    if not relevant:\n",
    "        return 0.0\n",
    "    return len([doc for doc in retrieved_k if doc in relevant]) / len(relevant)\n",
    "\n",
    "def average_precision(retrieved, relevant, k):\n",
    "    score = 0.0\n",
    "    hits = 0\n",
    "    for i, doc_id in enumerate(retrieved[:k], start=1):\n",
    "        if doc_id in relevant:\n",
    "            hits += 1\n",
    "            score += hits / i\n",
    "    return score / min(len(relevant), k) if relevant else 0.0\n",
    "\n",
    "def dcg(retrieved, relevant, k):\n",
    "    return sum([(1 if retrieved[i] in relevant else 0) / np.log2(i + 2) for i in range(min(len(retrieved), k))])\n",
    "\n",
    "def idcg(relevant, k):\n",
    "    return sum([1 / np.log2(i + 2) for i in range(min(len(relevant), k))])\n",
    "\n",
    "def ndcg_at_k(retrieved, relevant, k):\n",
    "    dcg_val = dcg(retrieved, relevant, k)\n",
    "    idcg_val = idcg(relevant, k)\n",
    "    return dcg_val / idcg_val if idcg_val > 0 else 0.0\n",
    "\n",
    "# التقييم لجميع الاستعلامات\n",
    "k = 10\n",
    "precisions, recalls, maps, ndcgs = [], [], [], []\n",
    "\n",
    "for qid, retrieved_docs in tqdm(results.items(), desc=\"📊 تقييم الاستعلامات\"):\n",
    "    retrieved_doc_ids = [doc_id for doc_id, _ in retrieved_docs]\n",
    "    relevant_doc_ids = qrels[qid]\n",
    "\n",
    "    precisions.append(precision_at_k(retrieved_doc_ids, relevant_doc_ids, k))\n",
    "    recalls.append(recall_at_k(retrieved_doc_ids, relevant_doc_ids, k))\n",
    "    maps.append(average_precision(retrieved_doc_ids, relevant_doc_ids, k))\n",
    "    ndcgs.append(ndcg_at_k(retrieved_doc_ids, relevant_doc_ids, k))\n",
    "\n",
    "# المتوسطات النهائية\n",
    "evaluation_results = {\n",
    "    \"Precision@10\": round(np.mean(precisions), 4),\n",
    "    \"Recall@10\": round(np.mean(recalls), 4),\n",
    "    \"MAP@10\": round(np.mean(maps), 4),\n",
    "    \"NDCG@10\": round(np.mean(ndcgs), 4),\n",
    "}\n",
    "\n",
    "print(\"📈 نتائج التقييم:\")\n",
    "for metric, value in evaluation_results.items():\n",
    "    print(f\"{metric}: {value}\")\n"
   ],
   "id": "900323a7b59cdcd7",
   "outputs": [
    {
     "name": "stderr",
     "output_type": "stream",
     "text": [
      "📊 تقييم الاستعلامات: 100%|██████████| 176/176 [00:00<00:00, 22070.00it/s]"
     ]
    },
    {
     "name": "stdout",
     "output_type": "stream",
     "text": [
      "📈 نتائج التقييم:\n",
      "Precision@10: 0.4125\n",
      "Recall@10: 0.1201\n",
      "MAP@10: 0.3112\n",
      "NDCG@10: 0.4653\n"
     ]
    },
    {
     "name": "stderr",
     "output_type": "stream",
     "text": [
      "\n"
     ]
    }
   ],
   "execution_count": 1
  }
 ],
 "metadata": {
  "kernelspec": {
   "display_name": "Python 3",
   "language": "python",
   "name": "python3"
  },
  "language_info": {
   "codemirror_mode": {
    "name": "ipython",
    "version": 2
   },
   "file_extension": ".py",
   "mimetype": "text/x-python",
   "name": "python",
   "nbconvert_exporter": "python",
   "pygments_lexer": "ipython2",
   "version": "2.7.6"
  }
 },
 "nbformat": 4,
 "nbformat_minor": 5
}
